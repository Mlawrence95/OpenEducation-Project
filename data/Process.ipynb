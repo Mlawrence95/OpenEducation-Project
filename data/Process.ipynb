{
 "cells": [
  {
   "cell_type": "code",
   "execution_count": 4,
   "metadata": {},
   "outputs": [],
   "source": [
    "import numpy as np\n",
    "import pandas as pd\n",
    "\n",
    "import os\n",
    "#import ast\n",
    "import DefinitelyNotquestionHelpers as qH"
   ]
  },
  {
   "cell_type": "markdown",
   "metadata": {},
   "source": [
    "# Dataset From Andy: Needs processing"
   ]
  },
  {
   "cell_type": "code",
   "execution_count": 5,
   "metadata": {
    "scrolled": true
   },
   "outputs": [
    {
     "data": {
      "text/html": [
       "<div>\n",
       "<style scoped>\n",
       "    .dataframe tbody tr th:only-of-type {\n",
       "        vertical-align: middle;\n",
       "    }\n",
       "\n",
       "    .dataframe tbody tr th {\n",
       "        vertical-align: top;\n",
       "    }\n",
       "\n",
       "    .dataframe thead th {\n",
       "        text-align: right;\n",
       "    }\n",
       "</style>\n",
       "<table border=\"1\" class=\"dataframe\">\n",
       "  <thead>\n",
       "    <tr style=\"text-align: right;\">\n",
       "      <th></th>\n",
       "      <th>Unnamed: 0</th>\n",
       "      <th>correct</th>\n",
       "      <th>options</th>\n",
       "      <th>question</th>\n",
       "      <th>rationale</th>\n",
       "      <th>spatial representations</th>\n",
       "      <th>counting and operation</th>\n",
       "      <th>logical problem solving</th>\n",
       "      <th>bag</th>\n",
       "      <th>clean_insight</th>\n",
       "      <th>category</th>\n",
       "    </tr>\n",
       "  </thead>\n",
       "  <tbody>\n",
       "    <tr>\n",
       "      <th>0</th>\n",
       "      <td>0</td>\n",
       "      <td>A</td>\n",
       "      <td>['A)32400', 'B)6000', 'C)600', 'D)60000', 'E)10']</td>\n",
       "      <td>Three birds are flying at a fast rate of 900 k...</td>\n",
       "      <td>To calculate the equivalent of miles in a kilo...</td>\n",
       "      <td>0.0</td>\n",
       "      <td>1.0</td>\n",
       "      <td>0.0</td>\n",
       "      <td>['three', 'birds', 'flying', 'fast', 'rate', '...</td>\n",
       "      <td>three bird fly fast rate kilometer per hour sp...</td>\n",
       "      <td>1</td>\n",
       "    </tr>\n",
       "    <tr>\n",
       "      <th>1</th>\n",
       "      <td>1</td>\n",
       "      <td>D</td>\n",
       "      <td>['A)100 m', 'B)150 m', 'C)200 m', 'D)250 m', '...</td>\n",
       "      <td>A ship is leaving a port. It takes 240 seconds...</td>\n",
       "      <td>Let the length of the ship be x metres and its...</td>\n",
       "      <td>1.0</td>\n",
       "      <td>1.0</td>\n",
       "      <td>0.0</td>\n",
       "      <td>['ship', 'leaving', 'port', 'takes', 'seconds'...</td>\n",
       "      <td>ship leave port take second pass channel get p...</td>\n",
       "      <td>1</td>\n",
       "    </tr>\n",
       "  </tbody>\n",
       "</table>\n",
       "</div>"
      ],
      "text/plain": [
       "   Unnamed: 0 correct                                            options  \\\n",
       "0           0       A  ['A)32400', 'B)6000', 'C)600', 'D)60000', 'E)10']   \n",
       "1           1       D  ['A)100 m', 'B)150 m', 'C)200 m', 'D)250 m', '...   \n",
       "\n",
       "                                            question  \\\n",
       "0  Three birds are flying at a fast rate of 900 k...   \n",
       "1  A ship is leaving a port. It takes 240 seconds...   \n",
       "\n",
       "                                           rationale  spatial representations  \\\n",
       "0  To calculate the equivalent of miles in a kilo...                      0.0   \n",
       "1  Let the length of the ship be x metres and its...                      1.0   \n",
       "\n",
       "   counting and operation  logical problem solving  \\\n",
       "0                     1.0                      0.0   \n",
       "1                     1.0                      0.0   \n",
       "\n",
       "                                                 bag  \\\n",
       "0  ['three', 'birds', 'flying', 'fast', 'rate', '...   \n",
       "1  ['ship', 'leaving', 'port', 'takes', 'seconds'...   \n",
       "\n",
       "                                       clean_insight  category  \n",
       "0  three bird fly fast rate kilometer per hour sp...         1  \n",
       "1  ship leave port take second pass channel get p...         1  "
      ]
     },
     "execution_count": 5,
     "metadata": {},
     "output_type": "execute_result"
    }
   ],
   "source": [
    "data = pd.read_csv('Math_questions_labeled.csv')\n",
    "data.head(2)"
   ]
  },
  {
   "cell_type": "code",
   "execution_count": 58,
   "metadata": {},
   "outputs": [],
   "source": [
    "testSt = \"abcd\""
   ]
  },
  {
   "cell_type": "code",
   "execution_count": 59,
   "metadata": {},
   "outputs": [],
   "source": [
    "import ast"
   ]
  },
  {
   "cell_type": "code",
   "execution_count": 71,
   "metadata": {},
   "outputs": [
    {
     "data": {
      "text/plain": [
       "['A)32400', 'B)6000', 'C)600', 'D)60000', 'E)10']"
      ]
     },
     "execution_count": 71,
     "metadata": {},
     "output_type": "execute_result"
    }
   ],
   "source": [
    "testList = data['options'].apply(lambda x: ast.literal_eval(x))[0]#[0]#.split(')')\n",
    "testList"
   ]
  },
  {
   "cell_type": "code",
   "execution_count": 88,
   "metadata": {},
   "outputs": [],
   "source": [
    "def dictionize(listString):\n",
    "    try:\n",
    "        split = [option.split(')') for option in listString]\n",
    "        out = dict(split)\n",
    "        return out\n",
    "    except:\n",
    "        out = dict()\n",
    "        return out"
   ]
  },
  {
   "cell_type": "code",
   "execution_count": 89,
   "metadata": {},
   "outputs": [
    {
     "data": {
      "text/plain": [
       "{'A': '32400', 'B': '6000', 'C': '600', 'D': '60000', 'E': '10'}"
      ]
     },
     "execution_count": 89,
     "metadata": {},
     "output_type": "execute_result"
    }
   ],
   "source": [
    "dictionize(testList)"
   ]
  },
  {
   "cell_type": "code",
   "execution_count": 90,
   "metadata": {},
   "outputs": [],
   "source": [
    "data['split answers'] = data['options'].apply(lambda x: ast.literal_eval(x)).apply(dictionize)"
   ]
  },
  {
   "cell_type": "code",
   "execution_count": 92,
   "metadata": {},
   "outputs": [
    {
     "data": {
      "text/html": [
       "<div>\n",
       "<style scoped>\n",
       "    .dataframe tbody tr th:only-of-type {\n",
       "        vertical-align: middle;\n",
       "    }\n",
       "\n",
       "    .dataframe tbody tr th {\n",
       "        vertical-align: top;\n",
       "    }\n",
       "\n",
       "    .dataframe thead th {\n",
       "        text-align: right;\n",
       "    }\n",
       "</style>\n",
       "<table border=\"1\" class=\"dataframe\">\n",
       "  <thead>\n",
       "    <tr style=\"text-align: right;\">\n",
       "      <th></th>\n",
       "      <th>Unnamed: 0</th>\n",
       "      <th>correct</th>\n",
       "      <th>options</th>\n",
       "      <th>question</th>\n",
       "      <th>rationale</th>\n",
       "      <th>spatial representations</th>\n",
       "      <th>counting and operation</th>\n",
       "      <th>logical problem solving</th>\n",
       "      <th>bag</th>\n",
       "      <th>clean_insight</th>\n",
       "      <th>category</th>\n",
       "      <th>split answers</th>\n",
       "    </tr>\n",
       "  </thead>\n",
       "  <tbody>\n",
       "    <tr>\n",
       "      <th>0</th>\n",
       "      <td>0</td>\n",
       "      <td>A</td>\n",
       "      <td>['A)32400', 'B)6000', 'C)600', 'D)60000', 'E)10']</td>\n",
       "      <td>Three birds are flying at a fast rate of 900 k...</td>\n",
       "      <td>To calculate the equivalent of miles in a kilo...</td>\n",
       "      <td>0.0</td>\n",
       "      <td>1.0</td>\n",
       "      <td>0.0</td>\n",
       "      <td>['three', 'birds', 'flying', 'fast', 'rate', '...</td>\n",
       "      <td>three bird fly fast rate kilometer per hour sp...</td>\n",
       "      <td>1</td>\n",
       "      <td>{'A': '32400', 'B': '6000', 'C': '600', 'D': '...</td>\n",
       "    </tr>\n",
       "  </tbody>\n",
       "</table>\n",
       "</div>"
      ],
      "text/plain": [
       "   Unnamed: 0 correct                                            options  \\\n",
       "0           0       A  ['A)32400', 'B)6000', 'C)600', 'D)60000', 'E)10']   \n",
       "\n",
       "                                            question  \\\n",
       "0  Three birds are flying at a fast rate of 900 k...   \n",
       "\n",
       "                                           rationale  spatial representations  \\\n",
       "0  To calculate the equivalent of miles in a kilo...                      0.0   \n",
       "\n",
       "   counting and operation  logical problem solving  \\\n",
       "0                     1.0                      0.0   \n",
       "\n",
       "                                                 bag  \\\n",
       "0  ['three', 'birds', 'flying', 'fast', 'rate', '...   \n",
       "\n",
       "                                       clean_insight  category  \\\n",
       "0  three bird fly fast rate kilometer per hour sp...         1   \n",
       "\n",
       "                                       split answers  \n",
       "0  {'A': '32400', 'B': '6000', 'C': '600', 'D': '...  "
      ]
     },
     "execution_count": 92,
     "metadata": {},
     "output_type": "execute_result"
    }
   ],
   "source": [
    "data.head(1)"
   ]
  },
  {
   "cell_type": "code",
   "execution_count": 95,
   "metadata": {},
   "outputs": [
    {
     "data": {
      "text/plain": [
       "'In a mixture, the ratio of spirit and water is 3:2. If the amount of spirit is 3 litre more than amount of water, calculate the amount of spirit in mixture?'"
      ]
     },
     "execution_count": 95,
     "metadata": {},
     "output_type": "execute_result"
    }
   ],
   "source": [
    "data['question']"
   ]
  },
  {
   "cell_type": "markdown",
   "metadata": {},
   "source": [
    "# Process of Split dataset"
   ]
  },
  {
   "cell_type": "code",
   "execution_count": 103,
   "metadata": {},
   "outputs": [
    {
     "data": {
      "text/html": [
       "<div>\n",
       "<style scoped>\n",
       "    .dataframe tbody tr th:only-of-type {\n",
       "        vertical-align: middle;\n",
       "    }\n",
       "\n",
       "    .dataframe tbody tr th {\n",
       "        vertical-align: top;\n",
       "    }\n",
       "\n",
       "    .dataframe thead th {\n",
       "        text-align: right;\n",
       "    }\n",
       "</style>\n",
       "<table border=\"1\" class=\"dataframe\">\n",
       "  <thead>\n",
       "    <tr style=\"text-align: right;\">\n",
       "      <th></th>\n",
       "      <th>index</th>\n",
       "      <th>Unnamed: 0</th>\n",
       "      <th>questionID</th>\n",
       "      <th>AnswerKey</th>\n",
       "      <th>examName</th>\n",
       "      <th>schoolGrade</th>\n",
       "      <th>question</th>\n",
       "      <th>subject</th>\n",
       "      <th>split answers</th>\n",
       "      <th>Q only</th>\n",
       "    </tr>\n",
       "  </thead>\n",
       "  <tbody>\n",
       "    <tr>\n",
       "      <th>0</th>\n",
       "      <td>742</td>\n",
       "      <td>742</td>\n",
       "      <td>89629</td>\n",
       "      <td>C</td>\n",
       "      <td>MCAS</td>\n",
       "      <td>5</td>\n",
       "      <td>Which of the following groups of materials wou...</td>\n",
       "      <td>Physics</td>\n",
       "      <td>{'(A)': 'bare wire, plastic rod, battery ', '(...</td>\n",
       "      <td>Which of the following groups of materials wou...</td>\n",
       "    </tr>\n",
       "  </tbody>\n",
       "</table>\n",
       "</div>"
      ],
      "text/plain": [
       "   index Unnamed: 0 questionID AnswerKey examName schoolGrade  \\\n",
       "0    742        742      89629         C     MCAS           5   \n",
       "\n",
       "                                            question  subject  \\\n",
       "0  Which of the following groups of materials wou...  Physics   \n",
       "\n",
       "                                       split answers  \\\n",
       "0  {'(A)': 'bare wire, plastic rod, battery ', '(...   \n",
       "\n",
       "                                              Q only  \n",
       "0  Which of the following groups of materials wou...  "
      ]
     },
     "execution_count": 103,
     "metadata": {},
     "output_type": "execute_result"
    }
   ],
   "source": [
    "split = pd.read_csv('split.csv')\n",
    "split['Q only'] = split['question'].apply(qH.getQuestion)\n",
    "cleanSplit = split[~split['question'].apply(qH.hasChart)].astype(str).reset_index()\n",
    "cleanSplit.head(1)"
   ]
  },
  {
   "cell_type": "code",
   "execution_count": null,
   "metadata": {},
   "outputs": [],
   "source": []
  },
  {
   "cell_type": "code",
   "execution_count": 105,
   "metadata": {},
   "outputs": [
    {
     "data": {
      "text/plain": [
       "'C'"
      ]
     },
     "execution_count": 105,
     "metadata": {},
     "output_type": "execute_result"
    }
   ],
   "source": [
    "cleanSplit.loc[0,'AnswerKey']"
   ]
  },
  {
   "cell_type": "code",
   "execution_count": 119,
   "metadata": {},
   "outputs": [
    {
     "data": {
      "text/plain": [
       "True"
      ]
     },
     "execution_count": 119,
     "metadata": {},
     "output_type": "execute_result"
    }
   ],
   "source": [
    "pd.Series(['A', 'B', 'C', 'D']).str.lower().astype(str).equals(pd.Series(['A', 'B', 'C', 'D']).str.lower().astype(str))"
   ]
  },
  {
   "cell_type": "code",
   "execution_count": 7,
   "metadata": {},
   "outputs": [
    {
     "data": {
      "text/plain": [
       "Physics    950\n",
       "Biology    545\n",
       "Name: subject, dtype: int64"
      ]
     },
     "execution_count": 7,
     "metadata": {},
     "output_type": "execute_result"
    }
   ],
   "source": [
    "cleanSplit['subject'].value_counts()"
   ]
  },
  {
   "cell_type": "code",
   "execution_count": 46,
   "metadata": {},
   "outputs": [
    {
     "data": {
      "text/plain": [
       "8    640\n",
       "5    417\n",
       "4    360\n",
       "3     78\n",
       "Name: schoolGrade, dtype: int64"
      ]
     },
     "execution_count": 46,
     "metadata": {},
     "output_type": "execute_result"
    }
   ],
   "source": [
    "cleanSplit['schoolGrade'].value_counts()"
   ]
  },
  {
   "cell_type": "code",
   "execution_count": 8,
   "metadata": {},
   "outputs": [
    {
     "data": {
      "text/plain": [
       "'Which of the following groups of materials would most likely be used to build an electromagnet? (A) bare wire, plastic rod, battery (B) bare wire, iron rod, light bulb (C) insulated wire, iron rod, battery (D) insulated wire, plastic rod, light bulb'"
      ]
     },
     "execution_count": 8,
     "metadata": {},
     "output_type": "execute_result"
    }
   ],
   "source": [
    "testString = cleanSplit['question'][0]\n",
    "testString"
   ]
  },
  {
   "cell_type": "code",
   "execution_count": 9,
   "metadata": {},
   "outputs": [
    {
     "data": {
      "text/plain": [
       "'Which of the following groups of materials would most likely be used to build an electromagnet?'"
      ]
     },
     "execution_count": 9,
     "metadata": {},
     "output_type": "execute_result"
    }
   ],
   "source": [
    "qH.getQuestion(testString)"
   ]
  },
  {
   "cell_type": "code",
   "execution_count": 10,
   "metadata": {},
   "outputs": [
    {
     "data": {
      "text/plain": [
       "\"{'(A)': 'bare wire, plastic rod, battery ', '(B)': 'bare wire, iron rod, light bulb ', '(C)': 'insulated wire, iron rod, battery ', '(D)': 'insulated wire, plastic rod, light bulb '}\""
      ]
     },
     "execution_count": 10,
     "metadata": {},
     "output_type": "execute_result"
    }
   ],
   "source": [
    "exampleAns = cleanSplit['split answers'][0]\n",
    "exampleAns"
   ]
  },
  {
   "cell_type": "code",
   "execution_count": 11,
   "metadata": {},
   "outputs": [
    {
     "data": {
      "text/plain": [
       "{'A': 'bare wire, plastic rod, battery',\n",
       " 'B': 'bare wire, iron rod, light bulb',\n",
       " 'C': 'insulated wire, iron rod, battery',\n",
       " 'D': 'insulated wire, plastic rod, light bulb'}"
      ]
     },
     "execution_count": 11,
     "metadata": {},
     "output_type": "execute_result"
    }
   ],
   "source": [
    "testDict = qH.cleanAns(exampleAns)\n",
    "testDict"
   ]
  },
  {
   "cell_type": "code",
   "execution_count": 12,
   "metadata": {},
   "outputs": [
    {
     "data": {
      "text/plain": [
       "{'A': 'bare wire, plastic rod, battery',\n",
       " 'B': 'bare wire, iron rod, light bulb',\n",
       " 'C': 'insulated wire, iron rod, battery',\n",
       " 'Correct': 'C',\n",
       " 'D': 'insulated wire, plastic rod, light bulb',\n",
       " 'Question': 'Which of the following groups of materials would most likely be used to build an electromagnet?'}"
      ]
     },
     "execution_count": 12,
     "metadata": {},
     "output_type": "execute_result"
    }
   ],
   "source": [
    "output = qH.dynamicQuestionOutput(0, cleanSplit)\n",
    "output"
   ]
  },
  {
   "cell_type": "markdown",
   "metadata": {},
   "source": [
    "# Test the flask routine"
   ]
  },
  {
   "cell_type": "code",
   "execution_count": 31,
   "metadata": {},
   "outputs": [
    {
     "data": {
      "text/plain": [
       "dict_items([('A', \"The metal spoon chemically reacted with the cook's hand.\"), ('B', \"The metal spoon conducted electricity to the cook's hand.\"), ('C', \"The metal spoon conducted heat to the cook's hand.\"), ('D', \"The metal spoon insulated the cook's hand.\")])"
      ]
     },
     "execution_count": 31,
     "metadata": {},
     "output_type": "execute_result"
    }
   ],
   "source": [
    "import DefinitelyNotquestionHelpers as qH\n",
    "\n",
    "Category = \"Physics\"\n",
    "\n",
    "\n",
    "qs = cleanSplit[cleanSplit['subject'] == Category]\n",
    "\n",
    "#validQuestions = qs[qs['Answered'] == 0]\n",
    "\n",
    "availableCount = qs.shape[0]\n",
    "\n",
    "myQIndex = np.random.choice(availableCount)\n",
    "\n",
    "\n",
    "output = qH.dynamicQuestionOutput(myQIndex, qs)\n",
    "ans = qH.answers(output)\n",
    "\n",
    "#return render_template('Quiz.html', output=output, category=Category, answers=ans)\n",
    "ans.items()"
   ]
  },
  {
   "cell_type": "code",
   "execution_count": 36,
   "metadata": {},
   "outputs": [
    {
     "name": "stdout",
     "output_type": "stream",
     "text": [
      "insulated wire, plastic rod, light bulb\n",
      "0\n",
      "weathering due to freezing and thawing\n",
      "1\n",
      "reptiles\n",
      "2\n",
      "Mineral deposits hardened into solid rock in underground caves.\n",
      "3\n",
      "Rain clouds move in from the ocean and evaporate as they reach the shore.\n",
      "4\n",
      "One magnet is storing energy and one magnet is releasing energy.\n",
      "5\n",
      "roots growing in response to gravity\n",
      "6\n",
      "3\n",
      "7\n",
      "Old refrigerators contain chemicals and take up space in landfills.\n",
      "8\n",
      "Which liquid makes bubbles that are the most interesting?\n",
      "9\n",
      "microscope\n",
      "10\n",
      "The red algae may be moved by boat to other areas when people travel.\n",
      "11\n",
      "leadership\n",
      "12\n",
      "Food is used to absorb sunlight.\n",
      "13\n",
      "directing runoff from cropland into a lake\n",
      "14\n",
      "increases habitat destruction\n",
      "15\n",
      "plastic siding\n",
      "16\n",
      "precipitation\n",
      "17\n",
      "good conduction of electricity\n",
      "18\n",
      "Earth rotates on its axis.\n",
      "19\n",
      "a telephone pole\n",
      "20\n",
      "loose sand\n",
      "21\n",
      "hunting\n",
      "22\n",
      "The winds could be converted to electrical energy.\n",
      "23\n",
      "a wooden stick\n",
      "24\n",
      "the amount of precipitation\n",
      "25\n",
      "plastic pipes\n",
      "26\n",
      "Shedding fur helps the hare blend into its habitat.\n",
      "27\n",
      "The sun revolves around Earth.\n",
      "28\n",
      "take it back to the grocery store and try to get their money back\n",
      "29\n",
      "rivers dumping melted snow from Canada.\n",
      "30\n",
      "The minerals the rock contains\n",
      "31\n",
      "Heart and liver\n",
      "32\n",
      "nervous system\n",
      "33\n",
      "conduction\n",
      "34\n",
      "Transpiration must add water vapor to the atmosphere.\n",
      "35\n",
      "Wind blowing on the window turned the water into vapor.\n",
      "36\n",
      "heavy snow and ice\n",
      "37\n",
      "how fast the organism grows\n",
      "38\n",
      "Hail will form.\n",
      "39\n",
      "are microscopic and other organisms cannot consume them.\n",
      "40\n",
      "They use sunlight to make food for plants and animals.\n",
      "41\n",
      "The seeds of oak trees are planted in new environments.\n",
      "42\n",
      "botanist, astronomer and paleontologist\n",
      "43\n",
      "This action reduces the amount of thermal energy transferred to the air.\n",
      "44\n",
      "Producer\n",
      "45\n",
      "Volcanic activity near the lake\n",
      "46\n",
      "Outer core\n",
      "47\n",
      "Sewing needle\n",
      "48\n",
      "conserving water\n",
      "49\n",
      "Spot from which players throw\n",
      "50\n",
      "types of ocean organisms\n",
      "51\n",
      "A group of butterflies landing on flowers\n",
      "52\n",
      "make walking easier\n",
      "53\n",
      "sedimentary rock\n",
      "54\n",
      "the time period the animal lived in\n",
      "55\n",
      "Smell\n",
      "56\n",
      "A region with a higher water pressure\n",
      "57\n",
      "millimeters\n",
      "58\n",
      "Thermometer and balance\n",
      "59\n",
      "Temperature\n",
      "60\n",
      "a wooden stick\n",
      "61\n",
      "type of seed\n",
      "62\n",
      "a year\n",
      "63\n",
      "weather\n",
      "64\n"
     ]
    },
    {
     "ename": "KeyError",
     "evalue": "'D'",
     "output_type": "error",
     "traceback": [
      "\u001b[0;31m---------------------------------------------------------------------------\u001b[0m",
      "\u001b[0;31mKeyError\u001b[0m                                  Traceback (most recent call last)",
      "\u001b[0;32m<ipython-input-36-472c07ea82c9>\u001b[0m in \u001b[0;36m<module>\u001b[0;34m()\u001b[0m\n\u001b[1;32m      1\u001b[0m \u001b[0;32mfor\u001b[0m \u001b[0mi\u001b[0m \u001b[0;32min\u001b[0m \u001b[0mrange\u001b[0m\u001b[0;34m(\u001b[0m\u001b[0mcleanSplit\u001b[0m\u001b[0;34m.\u001b[0m\u001b[0mshape\u001b[0m\u001b[0;34m[\u001b[0m\u001b[0;36m0\u001b[0m\u001b[0;34m]\u001b[0m\u001b[0;34m)\u001b[0m\u001b[0;34m:\u001b[0m\u001b[0;34m\u001b[0m\u001b[0m\n\u001b[0;32m----> 2\u001b[0;31m     \u001b[0mprint\u001b[0m\u001b[0;34m(\u001b[0m\u001b[0mqH\u001b[0m\u001b[0;34m.\u001b[0m\u001b[0mdynamicQuestionOutput\u001b[0m\u001b[0;34m(\u001b[0m\u001b[0mi\u001b[0m\u001b[0;34m,\u001b[0m \u001b[0mcleanSplit\u001b[0m\u001b[0;34m)\u001b[0m\u001b[0;34m[\u001b[0m\u001b[0;34m'D'\u001b[0m\u001b[0;34m]\u001b[0m\u001b[0;34m)\u001b[0m\u001b[0;34m\u001b[0m\u001b[0m\n\u001b[0m\u001b[1;32m      3\u001b[0m     \u001b[0mprint\u001b[0m\u001b[0;34m(\u001b[0m\u001b[0mi\u001b[0m\u001b[0;34m)\u001b[0m\u001b[0;34m\u001b[0m\u001b[0m\n",
      "\u001b[0;31mKeyError\u001b[0m: 'D'"
     ]
    }
   ],
   "source": [
    "for i in range(cleanSplit.shape[0]):\n",
    "    print(qH.dynamicQuestionOutput(i, cleanSplit)['D'])\n",
    "    print(i)"
   ]
  },
  {
   "cell_type": "markdown",
   "metadata": {},
   "source": [
    "Not all questions have four answers."
   ]
  },
  {
   "cell_type": "code",
   "execution_count": 43,
   "metadata": {},
   "outputs": [
    {
     "data": {
      "text/plain": [
       "\"{'(A)': 'gas ', '(B)': 'liquid ', '(C)': 'solid '}\""
      ]
     },
     "execution_count": 43,
     "metadata": {},
     "output_type": "execute_result"
    }
   ],
   "source": [
    "cleanSplit.loc[65]['split answers']"
   ]
  },
  {
   "cell_type": "code",
   "execution_count": 45,
   "metadata": {},
   "outputs": [
    {
     "data": {
      "text/plain": [
       "{'A': 'gas',\n",
       " 'B': 'liquid',\n",
       " 'C': 'solid',\n",
       " 'Correct': 'A',\n",
       " 'Question': 'Which state of matter has no definite volume and no definite shape?'}"
      ]
     },
     "execution_count": 45,
     "metadata": {},
     "output_type": "execute_result"
    }
   ],
   "source": [
    "qH.dynamicQuestionOutput(65, cleanSplit)"
   ]
  },
  {
   "cell_type": "code",
   "execution_count": 49,
   "metadata": {},
   "outputs": [],
   "source": [
    "empty = [2]"
   ]
  },
  {
   "cell_type": "code",
   "execution_count": 50,
   "metadata": {},
   "outputs": [
    {
     "data": {
      "text/plain": [
       "2"
      ]
     },
     "execution_count": 50,
     "metadata": {},
     "output_type": "execute_result"
    }
   ],
   "source": [
    "empty[-1]"
   ]
  },
  {
   "cell_type": "code",
   "execution_count": 100,
   "metadata": {},
   "outputs": [],
   "source": [
    "test = \"{'key': 'value'}\""
   ]
  },
  {
   "cell_type": "code",
   "execution_count": 101,
   "metadata": {},
   "outputs": [],
   "source": [
    "import ast"
   ]
  },
  {
   "cell_type": "code",
   "execution_count": 102,
   "metadata": {},
   "outputs": [
    {
     "data": {
      "text/plain": [
       "{'key': 'value'}"
      ]
     },
     "execution_count": 102,
     "metadata": {},
     "output_type": "execute_result"
    }
   ],
   "source": [
    "ast.literal_eval(test)"
   ]
  },
  {
   "cell_type": "code",
   "execution_count": null,
   "metadata": {},
   "outputs": [],
   "source": []
  }
 ],
 "metadata": {
  "kernelspec": {
   "display_name": "Python 3",
   "language": "python",
   "name": "python3"
  }
 },
 "nbformat": 4,
 "nbformat_minor": 2
}
