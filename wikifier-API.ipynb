{
 "cells": [
  {
   "cell_type": "code",
   "execution_count": 1,
   "metadata": {},
   "outputs": [
    {
     "data": {
      "text/html": [
       "<style>.container { width:90% !important; }</style>"
      ],
      "text/plain": [
       "<IPython.core.display.HTML object>"
      ]
     },
     "metadata": {},
     "output_type": "display_data"
    }
   ],
   "source": [
    "import json\n",
    "import pandas as pd\n",
    "#data = pd.read_csv('Math_questions_labeled.csv')\n",
    "#data.iloc[0:1000]\n",
    "import nltk\n",
    "import bs4 as bs\n",
    "from nltk.tokenize import sent_tokenize # tokenizes sentences\n",
    "import re\n",
    "from nltk.stem import PorterStemmer\n",
    "from nltk.tag import pos_tag\n",
    "from nltk.corpus import stopwords\n",
    "from nltk.corpus import wordnet\n",
    "from nltk.stem import WordNetLemmatizer\n",
    "\n",
    "from IPython.core.display import display, HTML \n",
    "display(HTML(\"<style>.container { width:90% !important; }</style>\")) #if 100% it would fit the screen\n",
    "from __future__ import division, print_function # make it run on py2 an d py3\n",
    "import requests # The requests library is an HTTP library for getting c ontent and posting etc.\n",
    "import bs4 as bs # BeautifulSoup4 is a Python library for pulling data out of HTML and XML code. We can query markup languages for specific content\n",
    "import urllib.parse, urllib.request, json\n",
    "\n",
    "from flask import Flask, render_template, json, request\n",
    "from werkzeug import generate_password_hash, check_password_hash\n",
    "from flaskext.mysql import MySQL"
   ]
  },
  {
   "cell_type": "code",
   "execution_count": 3,
   "metadata": {},
   "outputs": [],
   "source": [
    "f = open(\"createKey_json.txt\",\"r\")\n",
    "s = f.read()\n",
    "keys = json.loads(s)\n",
    "keys = keys[\"password\"]"
   ]
  },
  {
   "cell_type": "code",
   "execution_count": 195,
   "metadata": {},
   "outputs": [],
   "source": [
    "def CallWikifier(text, threshold=-1): #lang=\"en\"\n",
    "    data = urllib.parse.urlencode([\n",
    "    #Convert a mapping object or a sequence of two-element tuples to a percent-encoded ASCII text string\n",
    "        (\"text\", text), #text of the document to annotate; language: English (\"lang\", lang)\n",
    "        (\"userKey\", keys), #string that uniquely identifies each user\n",
    "        (\"wikiDataClasses\", \"false\"), \n",
    "        (\"wikiDataClassIds\", \"false\"),\n",
    "        (\"support\", \"false\"), #for each annotation, whether to include a list of subrange in the doc that support this annotation.\n",
    "        (\"ranges\", \"false\"),#whether to include, for each subrange in doc that looks like a possible mention of a concept, a list of all annotations for that subrange.\n",
    "        (\"includeCosines\", \"false\"), #the cosine similarity between the input document and the Wikipedia page\n",
    "        (\"maxMentionEntropy\", \"2\"), \n",
    "        (\"maxTargetsPerMention\",\"2\"),\n",
    "        (\"minLinkFrequency\",\"1\"),\n",
    "        (\"pageRankSqThreshold\", \"%g\" % threshold), \n",
    "        (\"applyPageRankSqThreshold\", \"false\"),\n",
    "        (\"partsOfSpeech\",\"false\"),\n",
    "        (\"nTopDfValuesToIgnore\", \"200\"), # if a phrase consists entirely of very frequent words, it will  be ignored\n",
    "        (\"nWordsToIgnoreFromList\", \"-1\")])\n",
    "        \n",
    "    url = \"http://www.wikifier.org/annotate-article\"\n",
    "    req = urllib.request.Request(url, data=data.encode(\"utf8\"), method=\"POST\")\n",
    "    with urllib.request.urlopen(req, timeout = 60) as f:\n",
    "        response = f.read()\n",
    "        response = json.loads(response.decode(\"utf8\"))\n",
    "    # Output\n",
    "#     with open(\"result.txt\",\"w\") as t:\n",
    "#         t.write(json.dumps(response))\n",
    "    \n",
    "#     for annotation in response[\"annotations\"]:\n",
    "#         print(\"%s (%s)\" % (annotation[\"title\"], annotation[\"url\"]))\n",
    "    result ={}\n",
    "    \n",
    "# each pair of output in a single bracket \n",
    "#     with open(\"result.txt\",\"w\") as t:\n",
    "#         for annotation in response[\"annotations\"]:\n",
    "#             resuls={annotation[\"title\"]: annotation[\"url\"]}\n",
    "#             results =json.dumps(result)\n",
    "#             print(\"%s (%s)\" % (annotation[\"title\"], annotation[\"url\"]))\n",
    "#             #t.write(\"%s %s\"%(annotation[\"title\"],annotation[\"url\"]) + '\\r\\n') \n",
    "#             t.write(results)\n",
    "\n",
    "# all pairs of output in one bracket \n",
    "    with open(\"result.txt\",\"w\") as t:\n",
    "        for annotation in response[\"annotations\"]:\n",
    "            print(\"%s (%s)\" % (annotation[\"title\"], annotation[\"url\"]))\n",
    "            results={annotation[\"title\"]: annotation[\"url\"]}\n",
    "            result.update(results)\n",
    "            #t.write(\"%s %s\"%(annotation[\"title\"],annotation[\"url\"]) + '\\r\\n') \n",
    "        results =json.dumps(result)\n",
    "        t.write(results)\n",
    "            \n",
    "        \n",
    "        \n",
    "        "
   ]
  },
  {
   "cell_type": "code",
   "execution_count": 169,
   "metadata": {},
   "outputs": [],
   "source": [
    "#len(nltk.word_tokenize(text))"
   ]
  },
  {
   "cell_type": "code",
   "execution_count": 196,
   "metadata": {},
   "outputs": [
    {
     "name": "stdout",
     "output_type": "stream",
     "text": [
      "Trigonometry (http://en.wikipedia.org/wiki/Trigonometry)\n",
      "Trigonometric functions (http://en.wikipedia.org/wiki/Trigonometric_functions)\n"
     ]
    }
   ],
   "source": [
    "CallWikifier(\"Trigonometric functions\")"
   ]
  },
  {
   "cell_type": "code",
   "execution_count": 30,
   "metadata": {},
   "outputs": [],
   "source": [
    "#req = urllib.request.Request(url, data=data.encode(\"utf8\"), method=\"POST\")"
   ]
  }
 ],
 "metadata": {
  "kernelspec": {
   "display_name": "Python 3",
   "language": "python",
   "name": "python3"
  },
  "language_info": {
   "codemirror_mode": {
    "name": "ipython",
    "version": 3
   },
   "file_extension": ".py",
   "mimetype": "text/x-python",
   "name": "python",
   "nbconvert_exporter": "python",
   "pygments_lexer": "ipython3",
   "version": "3.6.5"
  }
 },
 "nbformat": 4,
 "nbformat_minor": 2
}
